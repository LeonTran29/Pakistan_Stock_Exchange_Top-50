{
 "cells": [
  {
   "cell_type": "markdown",
   "id": "53eaf36d",
   "metadata": {},
   "source": [
    "1. Introduction:\n",
    "\n",
    "This dataset contains historical stock market data for the Top 50 companies listed on the Pakistan Stock Exchange.\n",
    "It includes daily OHLCV (Open, High, Low, Close, and Volume) data making it a valuable resource for financial analysis forecasting and time series modeling."
   ]
  },
  {
   "cell_type": "markdown",
   "id": "cff3c444",
   "metadata": {},
   "source": [
    "2. ASK:\n",
    "\n",
    "*What are the purposes of this analysis:*\n",
    "???\n",
    "\n",
    "*And they will be achieved by answering these questions:*\n",
    "???"
   ]
  },
  {
   "cell_type": "markdown",
   "id": "d9ab9e65",
   "metadata": {},
   "source": [
    "3. PREPARE:\n",
    "*Data observation:*\n",
    "- License: MIT\n",
    "This dataset is highly permissive but no wanrranties of its accuracy, errors, fitness for purposes. Which means the dataset should be used only in practicing.\n",
    "- Validation Date: Last update was August 29, 2025.\n",
    "\n",
    "Process preparation:**\n",
    "Setup library and import dataset"
   ]
  }
 ],
 "metadata": {
  "language_info": {
   "name": "python"
  }
 },
 "nbformat": 4,
 "nbformat_minor": 5
}
